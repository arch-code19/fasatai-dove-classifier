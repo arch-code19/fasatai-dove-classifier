{
 "cells": [
  {
   "cell_type": "code",
   "execution_count": null,
   "metadata": {},
   "outputs": [],
   "source": [
    "\n",
    "from fastai.vision.widgets import *\n",
    "from fastai.vision.all import *\n",
    "import gradio as gr"
   ]
  },
  {
   "cell_type": "code",
   "execution_count": null,
   "metadata": {},
   "outputs": [],
   "source": [
    "learn_inf = load_learner('./dove_classifier.pkl')"
   ]
  },
  {
   "cell_type": "code",
   "execution_count": null,
   "metadata": {},
   "outputs": [],
   "source": [
    "dove_categories = ('MOURNING DOVE', 'ROCK DOVE', 'ZEBRA DOVE')\n",
    "def classify_image(img):\n",
    "    pred,idx,probs = learn_inf.predict(img)\n",
    "    return dict(zip(dove_categories, map(float,probs)))"
   ]
  },
  {
   "cell_type": "code",
   "execution_count": null,
   "metadata": {},
   "outputs": [],
   "source": [
    "image = gr.Image(width=192,height=192)\n",
    "label = gr.Label()\n",
    "intf = gr.Interface(fn=classify_image, inputs=image, outputs=label)\n",
    "intf.launch(inline=False)"
   ]
  }
 ],
 "metadata": {
  "language_info": {
   "name": "python"
  }
 },
 "nbformat": 4,
 "nbformat_minor": 2
}
